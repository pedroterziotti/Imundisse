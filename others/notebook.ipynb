{
 "cells": [
  {
   "cell_type": "code",
   "execution_count": 1,
   "metadata": {},
   "outputs": [],
   "source": [
    "import discord\n",
    "import os\n",
    "import json"
   ]
  },
  {
   "cell_type": "code",
   "execution_count": 50,
   "metadata": {},
   "outputs": [],
   "source": [
    "with open(\"./variables.json\") as a:\n",
    "    variables=json.load(a)"
   ]
  },
  {
   "cell_type": "code",
   "execution_count": 3,
   "metadata": {},
   "outputs": [
    {
     "data": {
      "text/plain": [
       "'NjM0MDQ5NzIxMjU3ODIwMTcz.Xac20Q.pzdt3QGc7lUb7RYxqkDtwJITsw8'"
      ]
     },
     "execution_count": 3,
     "metadata": {},
     "output_type": "execute_result"
    }
   ],
   "source": [
    "variables[\"BOT_KEY\"]"
   ]
  },
  {
   "cell_type": "code",
   "execution_count": 19,
   "metadata": {},
   "outputs": [],
   "source": [
    "client= discord.Client()\n",
    "\n",
    "@client.event\n",
    "async def on_ready():\n",
    "    print(\"Imundisse disse\")"
   ]
  },
  {
   "cell_type": "code",
   "execution_count": 46,
   "metadata": {},
   "outputs": [
    {
     "ename": "NameError",
     "evalue": "name 'client' is not defined",
     "output_type": "error",
     "traceback": [
      "\u001b[1;31m---------------------------------------------------------------------------\u001b[0m",
      "\u001b[1;31mNameError\u001b[0m                                 Traceback (most recent call last)",
      "\u001b[1;32m<ipython-input-46-27267c977970>\u001b[0m in \u001b[0;36m<module>\u001b[1;34m\u001b[0m\n\u001b[1;32m----> 1\u001b[1;33m \u001b[0mclient\u001b[0m\u001b[1;33m.\u001b[0m\u001b[0mrun\u001b[0m\u001b[1;33m(\u001b[0m\u001b[0mvariables\u001b[0m\u001b[1;33m[\u001b[0m\u001b[1;34m\"BOT_KEY\"\u001b[0m\u001b[1;33m]\u001b[0m\u001b[1;33m)\u001b[0m\u001b[1;33m\u001b[0m\u001b[1;33m\u001b[0m\u001b[0m\n\u001b[0m",
      "\u001b[1;31mNameError\u001b[0m: name 'client' is not defined"
     ]
    }
   ],
   "source": [
    "client.run(variables[\"BOT_KEY\"]"
   ]
  },
  {
   "cell_type": "code",
   "execution_count": 2,
   "metadata": {},
   "outputs": [],
   "source": [
    "import requests\n",
    "import json\n",
    "import os\n",
    "\n",
    "with open('./variables.json') as file:\n",
    "    variables = json.load(file)"
   ]
  },
  {
   "cell_type": "code",
   "execution_count": 9,
   "metadata": {},
   "outputs": [],
   "source": [
    "channelID = \"863459125698887680\" # enable dev mode on discord, right-click on the channel, copy ID\n",
    "botToken = variables[\"BOT_KEY\"]    # get from the bot page. must be a bot, not a discord app\n",
    "\n",
    "baseURL = \"https://discordapp.com/api/channels/{}/messages\".format(channelID)\n",
    "headers = { \"Authorization\":\"Bot {}\".format(botToken),\n",
    "            \"User-Agent\":\"myBotThing (http://some.url, v0.1)\",\n",
    "            \"Content-Type\":\"application/json\", }\n",
    "\n",
    "message = \"hello world\"\n",
    "\n",
    "POSTedJSON =  json.dumps ( {\"content\":message} )\n",
    "\n",
    "r = requests.post(baseURL, headers = headers, data = POSTedJSON)"
   ]
  },
  {
   "cell_type": "code",
   "execution_count": 45,
   "metadata": {},
   "outputs": [],
   "source": [
    "baseurl = 'https://discord.com/api'\n",
    "new= '/users/@me/channels'\n",
    "user_id=str(178144275358285825)\n",
    "user_request = f\"/users/{user_id}\"\n",
    "\n",
    "user = requests.get(baseurl+user_request,headers=headers)\n",
    "user.json()['id']\n",
    "\n",
    "channel = requests.post(baseurl+new,headers=headers,json={'recipient_id' : user.json()['id'],})\n",
    "\n",
    "message='ola'\n",
    "nm = f'/channels/{channel.json()[\"id\"]}/messages'\n",
    "\n",
    "send = requests.post(baseurl+nm,  headers = headers, json={'content':message})\n"
   ]
  },
  {
   "cell_type": "code",
   "execution_count": 42,
   "metadata": {},
   "outputs": [
    {
     "data": {
      "text/plain": [
       "{'id': '863459125698887680',\n",
       " 'type': 1,\n",
       " 'last_message_id': '863763570030018560',\n",
       " 'recipients': [{'id': '178144275358285825',\n",
       "   'username': 'scorpiontaken',\n",
       "   'avatar': '0c23c052355e74f0838c5aa30a6d9da5',\n",
       "   'discriminator': '5498',\n",
       "   'public_flags': 0}]}"
      ]
     },
     "execution_count": 42,
     "metadata": {},
     "output_type": "execute_result"
    }
   ],
   "source": [
    "channel.json()"
   ]
  },
  {
   "cell_type": "code",
   "execution_count": 47,
   "metadata": {},
   "outputs": [],
   "source": [
    "from aiohttp import ClientSession\n"
   ]
  },
  {
   "cell_type": "code",
   "execution_count": 51,
   "metadata": {},
   "outputs": [
    {
     "name": "stdout",
     "output_type": "stream",
     "text": [
      "<ClientResponse(https://discord.com/api/users/@me/channels) [400 Bad Request]>\n",
      "<CIMultiDictProxy('Date': 'Sun, 11 Jul 2021 18:29:02 GMT', 'Content-Type': 'text/html; charset=UTF-8', 'Content-Length': '1555', 'Connection': 'keep-alive', 'CF-Ray': '66d418525915f1de-GRU', 'Strict-Transport-Security': 'max-age=31536000; includeSubDomains; preload', 'CF-Cache-Status': 'DYNAMIC', 'Expect-CT': 'max-age=604800, report-uri=\"https://report-uri.cloudflare.com/cdn-cgi/beacon/expect-ct\"', 'Referrer-Policy': 'no-referrer', 'X-Content-Type-Options': 'nosniff', 'Report-To': '{\"endpoints\":[{\"url\":\"https:\\\\/\\\\/a.nel.cloudflare.com\\\\/report\\\\/v2?s=eJw1x7HelUjZqLDLfhJpPNa5Z3oUa4zt6rdQ%2BpnFEdlh8M%2FpZQZjVf2E3IfECHzZdBR%2Brx0xxFTriOFuSLejacqVAlRZHuMFG0E1VmFfg7rPSafEYp3U2w%3D%3D\"}],\"group\":\"cf-nel\",\"max_age\":604800}', 'NEL': '{\"report_to\":\"cf-nel\",\"max_age\":604800}', 'Vary': 'Accept-Encoding', 'Server': 'cloudflare', 'alt-svc': 'h3-27=\":443\"; ma=86400, h3-28=\":443\"; ma=86400, h3-29=\":443\"; ma=86400, h3=\":443\"; ma=86400')>\n",
      "\n"
     ]
    },
    {
     "ename": "ContentTypeError",
     "evalue": "0, message='Attempt to decode JSON with unexpected mimetype: text/html; charset=utf-8', url=URL('https://discord.com/api/users/@me/channels')",
     "output_type": "error",
     "traceback": [
      "\u001b[1;31m---------------------------------------------------------------------------\u001b[0m",
      "\u001b[1;31mContentTypeError\u001b[0m                          Traceback (most recent call last)",
      "\u001b[1;32m<ipython-input-51-c86cd38e1029>\u001b[0m in \u001b[0;36m<module>\u001b[1;34m\u001b[0m\n\u001b[0;32m     12\u001b[0m         \u001b[1;32masync\u001b[0m \u001b[1;32mwith\u001b[0m \u001b[0msession\u001b[0m\u001b[1;33m.\u001b[0m\u001b[0mget\u001b[0m\u001b[1;33m(\u001b[0m\u001b[0mvariables\u001b[0m\u001b[1;33m[\u001b[0m\u001b[1;34m\"DISCORD_API_BASE_URL\"\u001b[0m\u001b[1;33m]\u001b[0m\u001b[1;33m+\u001b[0m\u001b[1;34m'/users/@me/channels'\u001b[0m\u001b[1;33m,\u001b[0m\u001b[0mjson\u001b[0m\u001b[1;33m=\u001b[0m\u001b[1;33m{\u001b[0m\u001b[1;34m'recipient_id'\u001b[0m\u001b[1;33m:\u001b[0m\u001b[1;36m178144275358285825\u001b[0m \u001b[1;33m}\u001b[0m\u001b[1;33m)\u001b[0m \u001b[1;32mas\u001b[0m \u001b[0mchannel\u001b[0m\u001b[1;33m:\u001b[0m\u001b[1;33m\u001b[0m\u001b[1;33m\u001b[0m\u001b[0m\n\u001b[0;32m     13\u001b[0m             \u001b[0mprint\u001b[0m\u001b[1;33m(\u001b[0m\u001b[0mchannel\u001b[0m\u001b[1;33m)\u001b[0m\u001b[1;33m\u001b[0m\u001b[1;33m\u001b[0m\u001b[0m\n\u001b[1;32m---> 14\u001b[1;33m             \u001b[0mchannel\u001b[0m\u001b[1;33m=\u001b[0m \u001b[1;32mawait\u001b[0m \u001b[0mchannel\u001b[0m\u001b[1;33m.\u001b[0m\u001b[0mjson\u001b[0m\u001b[1;33m(\u001b[0m\u001b[1;33m)\u001b[0m\u001b[1;33m\u001b[0m\u001b[1;33m\u001b[0m\u001b[0m\n\u001b[0m\u001b[0;32m     15\u001b[0m             \u001b[0mvariables\u001b[0m\u001b[1;33m[\u001b[0m\u001b[1;34m\"GUILD_OWNER_DM_CHANNEL\"\u001b[0m\u001b[1;33m]\u001b[0m \u001b[1;33m=\u001b[0m \u001b[0mchannel\u001b[0m\u001b[1;33m[\u001b[0m\u001b[1;34m'id'\u001b[0m\u001b[1;33m]\u001b[0m\u001b[1;33m\u001b[0m\u001b[1;33m\u001b[0m\u001b[0m\n\u001b[0;32m     16\u001b[0m             \u001b[1;32mwith\u001b[0m \u001b[0mopen\u001b[0m\u001b[1;33m(\u001b[0m\u001b[1;34m'./variables.json'\u001b[0m\u001b[1;33m)\u001b[0m \u001b[1;32mas\u001b[0m \u001b[0mfile\u001b[0m\u001b[1;33m:\u001b[0m\u001b[1;33m\u001b[0m\u001b[1;33m\u001b[0m\u001b[0m\n",
      "\u001b[1;32m~\\anaconda3\\lib\\site-packages\\aiohttp\\client_reqrep.py\u001b[0m in \u001b[0;36mjson\u001b[1;34m(self, encoding, loads, content_type)\u001b[0m\n\u001b[0;32m   1095\u001b[0m             \u001b[0mctype\u001b[0m \u001b[1;33m=\u001b[0m \u001b[0mself\u001b[0m\u001b[1;33m.\u001b[0m\u001b[0mheaders\u001b[0m\u001b[1;33m.\u001b[0m\u001b[0mget\u001b[0m\u001b[1;33m(\u001b[0m\u001b[0mhdrs\u001b[0m\u001b[1;33m.\u001b[0m\u001b[0mCONTENT_TYPE\u001b[0m\u001b[1;33m,\u001b[0m \u001b[1;34m\"\"\u001b[0m\u001b[1;33m)\u001b[0m\u001b[1;33m.\u001b[0m\u001b[0mlower\u001b[0m\u001b[1;33m(\u001b[0m\u001b[1;33m)\u001b[0m\u001b[1;33m\u001b[0m\u001b[1;33m\u001b[0m\u001b[0m\n\u001b[0;32m   1096\u001b[0m             \u001b[1;32mif\u001b[0m \u001b[1;32mnot\u001b[0m \u001b[0m_is_expected_content_type\u001b[0m\u001b[1;33m(\u001b[0m\u001b[0mctype\u001b[0m\u001b[1;33m,\u001b[0m \u001b[0mcontent_type\u001b[0m\u001b[1;33m)\u001b[0m\u001b[1;33m:\u001b[0m\u001b[1;33m\u001b[0m\u001b[1;33m\u001b[0m\u001b[0m\n\u001b[1;32m-> 1097\u001b[1;33m                 raise ContentTypeError(\n\u001b[0m\u001b[0;32m   1098\u001b[0m                     \u001b[0mself\u001b[0m\u001b[1;33m.\u001b[0m\u001b[0mrequest_info\u001b[0m\u001b[1;33m,\u001b[0m\u001b[1;33m\u001b[0m\u001b[1;33m\u001b[0m\u001b[0m\n\u001b[0;32m   1099\u001b[0m                     \u001b[0mself\u001b[0m\u001b[1;33m.\u001b[0m\u001b[0mhistory\u001b[0m\u001b[1;33m,\u001b[0m\u001b[1;33m\u001b[0m\u001b[1;33m\u001b[0m\u001b[0m\n",
      "\u001b[1;31mContentTypeError\u001b[0m: 0, message='Attempt to decode JSON with unexpected mimetype: text/html; charset=utf-8', url=URL('https://discord.com/api/users/@me/channels')"
     ]
    }
   ],
   "source": [
    "headers = { \"Authorization\":\"Bot {}\".format(variables[\"BOT_KEY\"]),\n",
    "        \"User-Agent\":\"myBotThing (http://some.url, v0.1)\",\n",
    "        \"Content-Type\":\"application/json\",}\n",
    "\n",
    "async with ClientSession(headers=headers) as session:\n",
    "\n",
    "    ### tirar isso no deploy ###\n",
    "    variables[\"GUILD_OWNER_DISCORD_USER_ID_test\"] = str(178144275358285825)\n",
    "    ### --------------------- ###\n",
    "\n",
    "    if \"GUILD_OWNER_DM_CHANNEL\" not in variables:\n",
    "        async with session.get(variables[\"DISCORD_API_BASE_URL\"]+'/users/@me/channels',json={'recipient_id':178144275358285825 }) as channel:\n",
    "            print(channel)\n",
    "            channel= await channel.json()\n",
    "            variables[\"GUILD_OWNER_DM_CHANNEL\"] = channel['id']\n",
    "            with open('./variables.json') as file:\n",
    "                json.dump(variables,file,ensure_ascii=True)\n",
    "\n",
    "    message = f\"BUNDINHA SEU ARROMBADO! \\n Já que o senhor está em live, vou mandar pros cornos que você chama de discord o seguinte: \\n\\t {variables['TWITCH_ONLINE_MESSAGE']} \\n Se o sabuchão quiser falar outra coisa manda aqui pro pai taokey?\"\n",
    "    nm = f'/channels/{variables[\"GUILD_OWNER_DM_CHANNEL\"]}/messages'\n",
    "    await session.post(variables[\"DISCORD_API_BASE_URL\"]+nm,json={'content':message})\n"
   ]
  },
  {
   "cell_type": "code",
   "execution_count": 56,
   "metadata": {},
   "outputs": [],
   "source": [
    "\n",
    "async with ClientSession(headers=headers) as session:\n",
    "    b=await session.get(variables[\"DISCORD_API_BASE_URL\"]+'/users/@me/channels',json={'recipient_id':178144275358285825 })"
   ]
  },
  {
   "cell_type": "code",
   "execution_count": 63,
   "metadata": {},
   "outputs": [],
   "source": [
    "session = ClientSession(headers=headers)"
   ]
  },
  {
   "cell_type": "code",
   "execution_count": 69,
   "metadata": {},
   "outputs": [
    {
     "ename": "InvalidURL",
     "evalue": "www.discord.com",
     "output_type": "error",
     "traceback": [
      "\u001b[1;31m---------------------------------------------------------------------------\u001b[0m",
      "\u001b[1;31mInvalidURL\u001b[0m                                Traceback (most recent call last)",
      "\u001b[1;32m<ipython-input-69-2576624fd3a2>\u001b[0m in \u001b[0;36m<module>\u001b[1;34m\u001b[0m\n\u001b[1;32m----> 1\u001b[1;33m \u001b[1;32mawait\u001b[0m \u001b[0msession\u001b[0m\u001b[1;33m.\u001b[0m\u001b[0mget\u001b[0m\u001b[1;33m(\u001b[0m\u001b[1;34m'www.discord.com'\u001b[0m\u001b[1;33m)\u001b[0m\u001b[1;33m\u001b[0m\u001b[1;33m\u001b[0m\u001b[0m\n\u001b[0m",
      "\u001b[1;32m~\\anaconda3\\lib\\site-packages\\aiohttp\\client.py\u001b[0m in \u001b[0;36m_request\u001b[1;34m(self, method, str_or_url, params, data, json, cookies, headers, skip_auto_headers, auth, allow_redirects, max_redirects, compress, chunked, expect100, raise_for_status, read_until_eof, proxy, proxy_auth, timeout, verify_ssl, fingerprint, ssl_context, ssl, proxy_headers, trace_request_ctx, read_bufsize)\u001b[0m\n\u001b[0;32m    490\u001b[0m                                 \u001b[1;32mbreak\u001b[0m\u001b[1;33m\u001b[0m\u001b[1;33m\u001b[0m\u001b[0m\n\u001b[0;32m    491\u001b[0m \u001b[1;33m\u001b[0m\u001b[0m\n\u001b[1;32m--> 492\u001b[1;33m                     req = self._request_class(\n\u001b[0m\u001b[0;32m    493\u001b[0m                         \u001b[0mmethod\u001b[0m\u001b[1;33m,\u001b[0m\u001b[1;33m\u001b[0m\u001b[1;33m\u001b[0m\u001b[0m\n\u001b[0;32m    494\u001b[0m                         \u001b[0murl\u001b[0m\u001b[1;33m,\u001b[0m\u001b[1;33m\u001b[0m\u001b[1;33m\u001b[0m\u001b[0m\n",
      "\u001b[1;32m~\\anaconda3\\lib\\site-packages\\aiohttp\\client_reqrep.py\u001b[0m in \u001b[0;36m__init__\u001b[1;34m(self, method, url, params, headers, skip_auto_headers, data, cookies, auth, version, compress, chunked, expect100, loop, response_class, proxy, proxy_auth, timer, session, ssl, proxy_headers, traces)\u001b[0m\n\u001b[0;32m    303\u001b[0m \u001b[1;33m\u001b[0m\u001b[0m\n\u001b[0;32m    304\u001b[0m         \u001b[0mself\u001b[0m\u001b[1;33m.\u001b[0m\u001b[0mupdate_version\u001b[0m\u001b[1;33m(\u001b[0m\u001b[0mversion\u001b[0m\u001b[1;33m)\u001b[0m\u001b[1;33m\u001b[0m\u001b[1;33m\u001b[0m\u001b[0m\n\u001b[1;32m--> 305\u001b[1;33m         \u001b[0mself\u001b[0m\u001b[1;33m.\u001b[0m\u001b[0mupdate_host\u001b[0m\u001b[1;33m(\u001b[0m\u001b[0murl\u001b[0m\u001b[1;33m)\u001b[0m\u001b[1;33m\u001b[0m\u001b[1;33m\u001b[0m\u001b[0m\n\u001b[0m\u001b[0;32m    306\u001b[0m         \u001b[0mself\u001b[0m\u001b[1;33m.\u001b[0m\u001b[0mupdate_headers\u001b[0m\u001b[1;33m(\u001b[0m\u001b[0mheaders\u001b[0m\u001b[1;33m)\u001b[0m\u001b[1;33m\u001b[0m\u001b[1;33m\u001b[0m\u001b[0m\n\u001b[0;32m    307\u001b[0m         \u001b[0mself\u001b[0m\u001b[1;33m.\u001b[0m\u001b[0mupdate_auto_headers\u001b[0m\u001b[1;33m(\u001b[0m\u001b[0mskip_auto_headers\u001b[0m\u001b[1;33m)\u001b[0m\u001b[1;33m\u001b[0m\u001b[1;33m\u001b[0m\u001b[0m\n",
      "\u001b[1;32m~\\anaconda3\\lib\\site-packages\\aiohttp\\client_reqrep.py\u001b[0m in \u001b[0;36mupdate_host\u001b[1;34m(self, url)\u001b[0m\n\u001b[0;32m    364\u001b[0m         \u001b[1;31m# get host/port\u001b[0m\u001b[1;33m\u001b[0m\u001b[1;33m\u001b[0m\u001b[1;33m\u001b[0m\u001b[0m\n\u001b[0;32m    365\u001b[0m         \u001b[1;32mif\u001b[0m \u001b[1;32mnot\u001b[0m \u001b[0murl\u001b[0m\u001b[1;33m.\u001b[0m\u001b[0mraw_host\u001b[0m\u001b[1;33m:\u001b[0m\u001b[1;33m\u001b[0m\u001b[1;33m\u001b[0m\u001b[0m\n\u001b[1;32m--> 366\u001b[1;33m             \u001b[1;32mraise\u001b[0m \u001b[0mInvalidURL\u001b[0m\u001b[1;33m(\u001b[0m\u001b[0murl\u001b[0m\u001b[1;33m)\u001b[0m\u001b[1;33m\u001b[0m\u001b[1;33m\u001b[0m\u001b[0m\n\u001b[0m\u001b[0;32m    367\u001b[0m \u001b[1;33m\u001b[0m\u001b[0m\n\u001b[0;32m    368\u001b[0m         \u001b[1;31m# basic auth info\u001b[0m\u001b[1;33m\u001b[0m\u001b[1;33m\u001b[0m\u001b[1;33m\u001b[0m\u001b[0m\n",
      "\u001b[1;31mInvalidURL\u001b[0m: www.discord.com"
     ]
    }
   ],
   "source": [
    "await session.get()"
   ]
  },
  {
   "cell_type": "code",
   "execution_count": null,
   "metadata": {},
   "outputs": [],
   "source": []
  }
 ],
 "metadata": {
  "kernelspec": {
   "display_name": "Python 3",
   "language": "python",
   "name": "python3"
  },
  "language_info": {
   "codemirror_mode": {
    "name": "ipython",
    "version": 3
   },
   "file_extension": ".py",
   "mimetype": "text/x-python",
   "name": "python",
   "nbconvert_exporter": "python",
   "pygments_lexer": "ipython3",
   "version": "3.8.5"
  }
 },
 "nbformat": 4,
 "nbformat_minor": 4
}
